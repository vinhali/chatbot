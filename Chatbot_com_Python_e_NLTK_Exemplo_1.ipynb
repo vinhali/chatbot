{
  "nbformat": 4,
  "nbformat_minor": 0,
  "metadata": {
    "colab": {
      "name": "Chatbot com Python e NLTK - Exemplo 1.ipynb",
      "provenance": [],
      "collapsed_sections": [],
      "include_colab_link": true
    },
    "kernelspec": {
      "name": "python3",
      "display_name": "Python 3"
    }
  },
  "cells": [
    {
      "cell_type": "markdown",
      "metadata": {
        "id": "view-in-github",
        "colab_type": "text"
      },
      "source": [
        "<a href=\"https://colab.research.google.com/github/vinhali/chatbot/blob/main/Chatbot_com_Python_e_NLTK_Exemplo_1.ipynb\" target=\"_parent\"><img src=\"https://colab.research.google.com/assets/colab-badge.svg\" alt=\"Open In Colab\"/></a>"
      ]
    },
    {
      "cell_type": "markdown",
      "metadata": {
        "id": "bbdVzJK4Jb6n"
      },
      "source": [
        "# Chatbot simples com Python e NLTK - Exemplo 1"
      ]
    },
    {
      "cell_type": "markdown",
      "metadata": {
        "id": "b6ifx4USLmyn"
      },
      "source": [
        "## Etapa 1: Testes com o chatbot Eliza\n",
        "\n",
        "- Eliza em Lisp: https://www.youtube.com/watch?v=X2O2mn6PqyM&t=2s\n",
        "- Mais chatbots: https://www.nltk.org/api/nltk.chat.html"
      ]
    },
    {
      "cell_type": "code",
      "metadata": {
        "id": "7H9-kcRp4HLL"
      },
      "source": [
        "#pip install nltk\n",
        "#nltk.download()\n",
        "import nltk"
      ],
      "execution_count": null,
      "outputs": []
    },
    {
      "cell_type": "code",
      "metadata": {
        "id": "fMiKNY3a4VEt",
        "colab": {
          "base_uri": "https://localhost:8080/",
          "height": 363
        },
        "outputId": "1eae1510-842c-4b5b-cbff-eaf645008640"
      },
      "source": [
        "nltk.chat.eliza.demo()"
      ],
      "execution_count": null,
      "outputs": [
        {
          "output_type": "stream",
          "text": [
            "Therapist\n",
            "---------\n",
            "Talk to the program by typing in plain English, using normal upper-\n",
            "and lower-case letters and punctuation.  Enter \"quit\" when done.\n",
            "========================================================================\n",
            "Hello.  How are you feeling today?\n",
            ">hello\n",
            "Hello, how are you feeling today?\n",
            ">hi\n",
            "How does that make you feel?\n",
            ">i'm good\n",
            "Why do you think you're good?\n",
            ">i do not know\n",
            "How does that make you feel?\n",
            ">i am good\n",
            "How long have you been good?\n",
            ">seven days\n",
            "Can you elaborate on that?\n",
            ">quit\n",
            "Good-bye.\n"
          ],
          "name": "stdout"
        }
      ]
    },
    {
      "cell_type": "markdown",
      "metadata": {
        "id": "DqGDlGUpJslb"
      },
      "source": [
        "## Etapa 2: Pacote chat do NLTK\n",
        "\n",
        "- Chat: lógica usada pelo chatbot\n",
        "- reflections: dicionário com entradas e suas respectivas saídas"
      ]
    },
    {
      "cell_type": "code",
      "metadata": {
        "id": "lZwa0wZN5XpM"
      },
      "source": [
        "import nltk\n",
        "from nltk.chat.util import Chat, reflections"
      ],
      "execution_count": null,
      "outputs": []
    },
    {
      "cell_type": "code",
      "metadata": {
        "id": "7JVJSBqF5nId",
        "colab": {
          "base_uri": "https://localhost:8080/",
          "height": 294
        },
        "outputId": "33c7c8d9-f5e8-4aa6-f824-d9a676debdf6"
      },
      "source": [
        "reflections"
      ],
      "execution_count": null,
      "outputs": [
        {
          "output_type": "execute_result",
          "data": {
            "text/plain": [
              "{'i': 'you',\n",
              " 'i am': 'you are',\n",
              " 'i was': 'you were',\n",
              " \"i'd\": 'you would',\n",
              " \"i'll\": 'you will',\n",
              " \"i'm\": 'you are',\n",
              " \"i've\": 'you have',\n",
              " 'me': 'you',\n",
              " 'my': 'your',\n",
              " 'you': 'me',\n",
              " 'you are': 'I am',\n",
              " 'you were': 'I was',\n",
              " \"you'll\": 'I will',\n",
              " \"you've\": 'I have',\n",
              " 'your': 'my',\n",
              " 'yours': 'mine'}"
            ]
          },
          "metadata": {
            "tags": []
          },
          "execution_count": 4
        }
      ]
    },
    {
      "cell_type": "code",
      "metadata": {
        "id": "rimuIlYWMkIl"
      },
      "source": [
        "reflections_pt = {'eu': 'você',\n",
        "                  'eu sou': 'você é',\n",
        "                  'eu era': 'você era',\n",
        "                  \"eu iria\": 'você iria',\n",
        "                  \"eu irei\": 'você irá',\n",
        "                  'meu': 'seu',\n",
        "                  'você': 'eu',\n",
        "                  'você é': 'eu sou',\n",
        "                  'você era': 'eu era',\n",
        "                  \"você irá\": 'eu irei',\n",
        "                  'seu': 'meu'}"
      ],
      "execution_count": null,
      "outputs": []
    },
    {
      "cell_type": "code",
      "metadata": {
        "id": "sU5XwnNE6FKv"
      },
      "source": [
        "pares = [\n",
        "    [\n",
        "     r'oi|olá|opa',\n",
        "     ['olá', 'como vai?', 'tudo bem?']\n",
        "    ],\n",
        "    [\n",
        "     r'qual é o seu nome?',\n",
        "     ['Meu nome é Chat e eu sou um chatbot']\n",
        "    ],  \n",
        "    [\n",
        "     r'(.*) idade?',\n",
        "     ['Não tenho idade pois sou um chatbot']\n",
        "    ], \n",
        "    [\n",
        "     r'meu nome é (.*)',\n",
        "     ['Olá %1, como você está hoje?']\n",
        "    ],  \n",
        "    [\n",
        "     r'eu trabalho na empresa (.*)',\n",
        "     ['Eu conheço a empresa %1']\n",
        "    ], \n",
        "    [\n",
        "     r'(.*) (cidade|país)',\n",
        "     ['Porto União, Brasil']\n",
        "    ], \n",
        "    [\n",
        "     r'quit',\n",
        "     ['Até breve', 'Foi bom conversar com você. Até breve!']\n",
        "    ]     \n",
        "]"
      ],
      "execution_count": null,
      "outputs": []
    },
    {
      "cell_type": "code",
      "metadata": {
        "id": "ocerTWVf6a47",
        "colab": {
          "base_uri": "https://localhost:8080/",
          "height": 173
        },
        "outputId": "ae7d18d5-0309-482c-b275-88221a5dc936"
      },
      "source": [
        "print('Olá, sou o chat!')\n",
        "chat = Chat(pares, reflections_pt)\n",
        "chat.converse()"
      ],
      "execution_count": null,
      "outputs": [
        {
          "output_type": "stream",
          "text": [
            "Olá, sou o chat!\n",
            ">olá\n",
            "como vai?\n",
            ">em qual cidade você mora?\n",
            "Porto União, Brasil\n",
            ">meu nome é jones\n",
            "Olá jones, como você está hoje?\n",
            ">quit\n",
            "Até breve\n"
          ],
          "name": "stdout"
        }
      ]
    }
  ]
}